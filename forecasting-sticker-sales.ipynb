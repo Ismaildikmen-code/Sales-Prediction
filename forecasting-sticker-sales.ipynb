{
 "cells": [
  {
   "cell_type": "code",
   "execution_count": 1,
   "id": "4b00ac13",
   "metadata": {
    "_cell_guid": "b1076dfc-b9ad-4769-8c92-a6c4dae69d19",
    "_uuid": "8f2839f25d086af736a60e9eeb907d3b93b6e0e5",
    "execution": {
     "iopub.execute_input": "2025-01-31T12:13:38.197591Z",
     "iopub.status.busy": "2025-01-31T12:13:38.197226Z",
     "iopub.status.idle": "2025-01-31T12:13:39.019554Z",
     "shell.execute_reply": "2025-01-31T12:13:39.018210Z"
    },
    "papermill": {
     "duration": 0.828996,
     "end_time": "2025-01-31T12:13:39.021024",
     "exception": false,
     "start_time": "2025-01-31T12:13:38.192028",
     "status": "completed"
    },
    "tags": []
   },
   "outputs": [
    {
     "name": "stdout",
     "output_type": "stream",
     "text": [
      "/kaggle/input/playground-series-s5e1/sample_submission.csv\n",
      "/kaggle/input/playground-series-s5e1/train.csv\n",
      "/kaggle/input/playground-series-s5e1/test.csv\n"
     ]
    }
   ],
   "source": [
    "# This Python 3 environment comes with many helpful analytics libraries installed\n",
    "# It is defined by the kaggle/python Docker image: https://github.com/kaggle/docker-python\n",
    "# For example, here's several helpful packages to load\n",
    "\n",
    "import numpy as np # linear algebra\n",
    "import pandas as pd # data processing, CSV file I/O (e.g. pd.read_csv)\n",
    "\n",
    "# Input data files are available in the read-only \"../input/\" directory\n",
    "# For example, running this (by clicking run or pressing Shift+Enter) will list all files under the input directory\n",
    "\n",
    "import os\n",
    "for dirname, _, filenames in os.walk('/kaggle/input'):\n",
    "    for filename in filenames:\n",
    "        print(os.path.join(dirname, filename))\n",
    "\n",
    "# You can write up to 20GB to the current directory (/kaggle/working/) that gets preserved as output when you create a version using \"Save & Run All\" \n",
    "# You can also write temporary files to /kaggle/temp/, but they won't be saved outside of the current session"
   ]
  },
  {
   "cell_type": "markdown",
   "id": "a454d271",
   "metadata": {
    "papermill": {
     "duration": 0.00319,
     "end_time": "2025-01-31T12:13:39.028498",
     "exception": false,
     "start_time": "2025-01-31T12:13:39.025308",
     "status": "completed"
    },
    "tags": []
   },
   "source": [
    "## 1. Import Libraries"
   ]
  },
  {
   "cell_type": "code",
   "execution_count": 2,
   "id": "e22d617a",
   "metadata": {
    "execution": {
     "iopub.execute_input": "2025-01-31T12:13:39.036306Z",
     "iopub.status.busy": "2025-01-31T12:13:39.035865Z",
     "iopub.status.idle": "2025-01-31T12:13:42.944067Z",
     "shell.execute_reply": "2025-01-31T12:13:42.943014Z"
    },
    "papermill": {
     "duration": 3.914095,
     "end_time": "2025-01-31T12:13:42.945945",
     "exception": false,
     "start_time": "2025-01-31T12:13:39.031850",
     "status": "completed"
    },
    "tags": []
   },
   "outputs": [],
   "source": [
    "# Import required libraries\n",
    "import pandas as pd\n",
    "import numpy as np\n",
    "import lightgbm as lgb\n",
    "from sklearn.model_selection import train_test_split, GridSearchCV\n",
    "from sklearn.metrics import make_scorer, mean_squared_error, mean_absolute_percentage_error\n"
   ]
  },
  {
   "cell_type": "markdown",
   "id": "906c33cf",
   "metadata": {
    "execution": {
     "iopub.execute_input": "2025-01-31T12:09:57.601169Z",
     "iopub.status.busy": "2025-01-31T12:09:57.600746Z",
     "iopub.status.idle": "2025-01-31T12:09:57.606045Z",
     "shell.execute_reply": "2025-01-31T12:09:57.604456Z",
     "shell.execute_reply.started": "2025-01-31T12:09:57.601139Z"
    },
    "papermill": {
     "duration": 0.00322,
     "end_time": "2025-01-31T12:13:42.952838",
     "exception": false,
     "start_time": "2025-01-31T12:13:42.949618",
     "status": "completed"
    },
    "tags": []
   },
   "source": [
    "## 2. Load Data and Preprocess"
   ]
  },
  {
   "cell_type": "code",
   "execution_count": 3,
   "id": "0ef93271",
   "metadata": {
    "execution": {
     "iopub.execute_input": "2025-01-31T12:13:42.961023Z",
     "iopub.status.busy": "2025-01-31T12:13:42.960392Z",
     "iopub.status.idle": "2025-01-31T12:13:43.663276Z",
     "shell.execute_reply": "2025-01-31T12:13:43.662140Z"
    },
    "papermill": {
     "duration": 0.70886,
     "end_time": "2025-01-31T12:13:43.665134",
     "exception": false,
     "start_time": "2025-01-31T12:13:42.956274",
     "status": "completed"
    },
    "tags": []
   },
   "outputs": [],
   "source": [
    "# Load datasets\n",
    "train_dataset = pd.read_csv(\"/kaggle/input/playground-series-s5e1/train.csv\")\n",
    "test_dataset = pd.read_csv(\"/kaggle/input/playground-series-s5e1/test.csv\")\n",
    "\n",
    "# Drop 'id' column and handle missing values\n",
    "train_dataset = train_dataset.drop('id', axis=1).drop_duplicates().dropna()\n",
    "test_dataset = test_dataset.drop('id', axis=1)\n",
    "\n",
    "# Convert date to datetime and set as index\n",
    "train_dataset['date'] = pd.to_datetime(train_dataset['date'])\n",
    "test_dataset['date'] = pd.to_datetime(test_dataset['date'])\n",
    "train_dataset.set_index('date', inplace=True)\n",
    "test_dataset.set_index('date', inplace=True)\n"
   ]
  },
  {
   "cell_type": "markdown",
   "id": "57c40d81",
   "metadata": {
    "papermill": {
     "duration": 0.003505,
     "end_time": "2025-01-31T12:13:43.672643",
     "exception": false,
     "start_time": "2025-01-31T12:13:43.669138",
     "status": "completed"
    },
    "tags": []
   },
   "source": [
    "## 3. Preprocessing Categorical Data"
   ]
  },
  {
   "cell_type": "code",
   "execution_count": 4,
   "id": "5c0711f7",
   "metadata": {
    "execution": {
     "iopub.execute_input": "2025-01-31T12:13:43.680933Z",
     "iopub.status.busy": "2025-01-31T12:13:43.680568Z",
     "iopub.status.idle": "2025-01-31T12:13:43.894541Z",
     "shell.execute_reply": "2025-01-31T12:13:43.892993Z"
    },
    "papermill": {
     "duration": 0.220247,
     "end_time": "2025-01-31T12:13:43.896532",
     "exception": false,
     "start_time": "2025-01-31T12:13:43.676285",
     "status": "completed"
    },
    "tags": []
   },
   "outputs": [],
   "source": [
    "from sklearn.preprocessing import LabelEncoder\n",
    "\n",
    "# Define categorical columns\n",
    "cat_cols = ['country', 'store', 'product']\n",
    "\n",
    "# Initialize LabelEncoder\n",
    "label_encoders = {col: LabelEncoder() for col in cat_cols}\n",
    "\n",
    "# Fit and transform both train and test datasets\n",
    "for col in cat_cols:\n",
    "    combined_data = pd.concat([train_dataset[col], test_dataset[col]])\n",
    "    le = LabelEncoder()\n",
    "    le.fit(combined_data)\n",
    "    train_dataset[col] = le.transform(train_dataset[col])\n",
    "    test_dataset[col] = le.transform(test_dataset[col])\n"
   ]
  },
  {
   "cell_type": "markdown",
   "id": "bd5d4e40",
   "metadata": {
    "papermill": {
     "duration": 0.003352,
     "end_time": "2025-01-31T12:13:43.903655",
     "exception": false,
     "start_time": "2025-01-31T12:13:43.900303",
     "status": "completed"
    },
    "tags": []
   },
   "source": [
    "## 4. Split the Data"
   ]
  },
  {
   "cell_type": "code",
   "execution_count": 5,
   "id": "736cd37d",
   "metadata": {
    "execution": {
     "iopub.execute_input": "2025-01-31T12:13:43.912039Z",
     "iopub.status.busy": "2025-01-31T12:13:43.911650Z",
     "iopub.status.idle": "2025-01-31T12:13:43.956714Z",
     "shell.execute_reply": "2025-01-31T12:13:43.955165Z"
    },
    "papermill": {
     "duration": 0.051562,
     "end_time": "2025-01-31T12:13:43.958740",
     "exception": false,
     "start_time": "2025-01-31T12:13:43.907178",
     "status": "completed"
    },
    "tags": []
   },
   "outputs": [],
   "source": [
    "# Target column is 'num_sold', features are all other columns\n",
    "X = train_dataset.drop('num_sold', axis=1)\n",
    "y = train_dataset['num_sold']\n",
    "\n",
    "# Apply log transformation to the target\n",
    "y = np.log1p(y)\n",
    "\n",
    "# Split the dataset into train and test sets\n",
    "X_train, X_test, y_train, y_test = train_test_split(X, y, test_size=0.2, random_state=0)\n"
   ]
  },
  {
   "cell_type": "markdown",
   "id": "f5ffb7d7",
   "metadata": {
    "papermill": {
     "duration": 0.003323,
     "end_time": "2025-01-31T12:13:43.965920",
     "exception": false,
     "start_time": "2025-01-31T12:13:43.962597",
     "status": "completed"
    },
    "tags": []
   },
   "source": [
    "## 5. GridSearchCV for Hyperparameter Tuning"
   ]
  },
  {
   "cell_type": "code",
   "execution_count": 6,
   "id": "5e61ed95",
   "metadata": {
    "execution": {
     "iopub.execute_input": "2025-01-31T12:13:43.974205Z",
     "iopub.status.busy": "2025-01-31T12:13:43.973851Z",
     "iopub.status.idle": "2025-01-31T12:14:00.113509Z",
     "shell.execute_reply": "2025-01-31T12:14:00.112146Z"
    },
    "papermill": {
     "duration": 16.146103,
     "end_time": "2025-01-31T12:14:00.115564",
     "exception": false,
     "start_time": "2025-01-31T12:13:43.969461",
     "status": "completed"
    },
    "tags": []
   },
   "outputs": [
    {
     "name": "stdout",
     "output_type": "stream",
     "text": [
      "Fitting 3 folds for each of 1 candidates, totalling 3 fits\n",
      "[LightGBM] [Info] Auto-choosing row-wise multi-threading, the overhead of testing was 0.001556 seconds.\n",
      "You can set `force_row_wise=true` to remove the overhead.\n",
      "And if memory is not enough, you can set `force_col_wise=true`.\n",
      "[LightGBM] [Info] Total Bins 14\n",
      "[LightGBM] [Info] Number of data points in the train set: 177007, number of used features: 3\n",
      "[LightGBM] [Info] Start training from score 5.938080\n",
      "Best Parameters: {'colsample_bytree': 0.93, 'learning_rate': 0.08, 'max_depth': 10, 'min_child_samples': 20, 'n_estimators': 500, 'subsample': 0.7}\n",
      "Best MAPE Score: -0.02643841219862487\n"
     ]
    }
   ],
   "source": [
    "# Initialize LightGBM Regressor\n",
    "lgb_model = lgb.LGBMRegressor()\n",
    "\n",
    "# Define parameter grid (reduced for faster testing)\n",
    "param_grid = {\n",
    "    'learning_rate': [0.08],\n",
    "    'n_estimators': [500],  # Reduced the number of estimators for quicker testing\n",
    "    'max_depth': [10],\n",
    "    'min_child_samples': [20],\n",
    "    'subsample': [0.7],\n",
    "    'colsample_bytree': [0.93]\n",
    "}\n",
    "\n",
    "# Setup GridSearchCV with MAPE as the scoring metric\n",
    "grid_search = GridSearchCV(estimator=lgb_model, param_grid=param_grid, \n",
    "                           scoring=make_scorer(mean_absolute_percentage_error, greater_is_better=False), \n",
    "                           cv=3, n_jobs=-1, verbose=1)\n",
    "\n",
    "# Fit GridSearchCV on training data\n",
    "grid_search.fit(X_train, y_train)\n",
    "\n",
    "# Output best parameters and best score\n",
    "print(\"Best Parameters:\", grid_search.best_params_)\n",
    "print(\"Best MAPE Score:\", grid_search.best_score_)\n"
   ]
  },
  {
   "cell_type": "markdown",
   "id": "88d9a33f",
   "metadata": {
    "papermill": {
     "duration": 0.003552,
     "end_time": "2025-01-31T12:14:00.123217",
     "exception": false,
     "start_time": "2025-01-31T12:14:00.119665",
     "status": "completed"
    },
    "tags": []
   },
   "source": [
    "## 6. Model Evaluation"
   ]
  },
  {
   "cell_type": "code",
   "execution_count": 7,
   "id": "4acbe2ce",
   "metadata": {
    "execution": {
     "iopub.execute_input": "2025-01-31T12:14:00.132045Z",
     "iopub.status.busy": "2025-01-31T12:14:00.131672Z",
     "iopub.status.idle": "2025-01-31T12:14:00.803208Z",
     "shell.execute_reply": "2025-01-31T12:14:00.801849Z"
    },
    "papermill": {
     "duration": 0.67809,
     "end_time": "2025-01-31T12:14:00.805017",
     "exception": false,
     "start_time": "2025-01-31T12:14:00.126927",
     "status": "completed"
    },
    "tags": []
   },
   "outputs": [
    {
     "name": "stdout",
     "output_type": "stream",
     "text": [
      "Test MAPE: 0.02649197373781804\n"
     ]
    }
   ],
   "source": [
    "# Get the best model from grid search\n",
    "best_model = grid_search.best_estimator_\n",
    "\n",
    "# Predict on the test set\n",
    "y_pred = best_model.predict(X_test)\n",
    "\n",
    "# Evaluate using MAPE\n",
    "mape = mean_absolute_percentage_error(y_test, y_pred)\n",
    "print(\"Test MAPE:\", mape)\n"
   ]
  },
  {
   "cell_type": "markdown",
   "id": "c4a3e3db",
   "metadata": {
    "papermill": {
     "duration": 0.004437,
     "end_time": "2025-01-31T12:14:00.814528",
     "exception": false,
     "start_time": "2025-01-31T12:14:00.810091",
     "status": "completed"
    },
    "tags": []
   },
   "source": [
    "## 7. Submission Preparation"
   ]
  },
  {
   "cell_type": "code",
   "execution_count": 8,
   "id": "05c70e13",
   "metadata": {
    "execution": {
     "iopub.execute_input": "2025-01-31T12:14:00.823367Z",
     "iopub.status.busy": "2025-01-31T12:14:00.822987Z",
     "iopub.status.idle": "2025-01-31T12:14:02.502329Z",
     "shell.execute_reply": "2025-01-31T12:14:02.501171Z"
    },
    "papermill": {
     "duration": 1.685645,
     "end_time": "2025-01-31T12:14:02.503975",
     "exception": false,
     "start_time": "2025-01-31T12:14:00.818330",
     "status": "completed"
    },
    "tags": []
   },
   "outputs": [
    {
     "name": "stdout",
     "output_type": "stream",
     "text": [
      "       id  num_sold\n",
      "0  230130  4.651084\n",
      "1  230131  6.565608\n",
      "2  230132  6.379104\n",
      "3  230133  5.767755\n",
      "4  230134  5.918705\n"
     ]
    }
   ],
   "source": [
    "# Predict on the test dataset\n",
    "y_test_pred = best_model.predict(test_dataset)\n",
    "\n",
    "# Prepare the submission dataframe\n",
    "submission_df = pd.read_csv('/kaggle/input/playground-series-s5e1/sample_submission.csv')\n",
    "submission_df['num_sold'] = y_test_pred\n",
    "\n",
    "# Save the submission file\n",
    "submission_df.to_csv(\"submission.csv\", index=False)\n",
    "print(submission_df.head())\n"
   ]
  },
  {
   "cell_type": "code",
   "execution_count": null,
   "id": "3f66589b",
   "metadata": {
    "papermill": {
     "duration": 0.003671,
     "end_time": "2025-01-31T12:14:02.511717",
     "exception": false,
     "start_time": "2025-01-31T12:14:02.508046",
     "status": "completed"
    },
    "tags": []
   },
   "outputs": [],
   "source": []
  }
 ],
 "metadata": {
  "kaggle": {
   "accelerator": "none",
   "dataSources": [
    {
     "databundleVersionId": 10652996,
     "sourceId": 85723,
     "sourceType": "competition"
    }
   ],
   "dockerImageVersionId": 30839,
   "isGpuEnabled": false,
   "isInternetEnabled": true,
   "language": "python",
   "sourceType": "notebook"
  },
  "kernelspec": {
   "display_name": "Python 3",
   "language": "python",
   "name": "python3"
  },
  "language_info": {
   "codemirror_mode": {
    "name": "ipython",
    "version": 3
   },
   "file_extension": ".py",
   "mimetype": "text/x-python",
   "name": "python",
   "nbconvert_exporter": "python",
   "pygments_lexer": "ipython3",
   "version": "3.10.12"
  },
  "papermill": {
   "default_parameters": {},
   "duration": 27.969405,
   "end_time": "2025-01-31T12:14:03.437563",
   "environment_variables": {},
   "exception": null,
   "input_path": "__notebook__.ipynb",
   "output_path": "__notebook__.ipynb",
   "parameters": {},
   "start_time": "2025-01-31T12:13:35.468158",
   "version": "2.6.0"
  }
 },
 "nbformat": 4,
 "nbformat_minor": 5
}
